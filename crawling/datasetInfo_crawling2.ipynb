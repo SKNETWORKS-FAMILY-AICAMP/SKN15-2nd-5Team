{
 "cells": [
  {
   "cell_type": "code",
   "execution_count": 1,
   "id": "ea6af830",
   "metadata": {},
   "outputs": [
    {
     "data": {
      "text/html": [
       "<div>\n",
       "<style scoped>\n",
       "    .dataframe tbody tr th:only-of-type {\n",
       "        vertical-align: middle;\n",
       "    }\n",
       "\n",
       "    .dataframe tbody tr th {\n",
       "        vertical-align: top;\n",
       "    }\n",
       "\n",
       "    .dataframe thead th {\n",
       "        text-align: right;\n",
       "    }\n",
       "</style>\n",
       "<table border=\"1\" class=\"dataframe\">\n",
       "  <thead>\n",
       "    <tr style=\"text-align: right;\">\n",
       "      <th></th>\n",
       "      <th>name</th>\n",
       "      <th>rows</th>\n",
       "      <th>cols</th>\n",
       "      <th>ub</th>\n",
       "      <th>link</th>\n",
       "    </tr>\n",
       "  </thead>\n",
       "  <tbody>\n",
       "    <tr>\n",
       "      <th>0</th>\n",
       "      <td>Telco Customer Churn</td>\n",
       "      <td>7043</td>\n",
       "      <td>21</td>\n",
       "      <td>8.82</td>\n",
       "      <td>https://www.kaggle.com/datasets/blastchar/telc...</td>\n",
       "    </tr>\n",
       "  </tbody>\n",
       "</table>\n",
       "</div>"
      ],
      "text/plain": [
       "                   name  rows cols    ub  \\\n",
       "0  Telco Customer Churn  7043   21  8.82   \n",
       "\n",
       "                                                link  \n",
       "0  https://www.kaggle.com/datasets/blastchar/telc...  "
      ]
     },
     "execution_count": 1,
     "metadata": {},
     "output_type": "execute_result"
    }
   ],
   "source": [
    "import pandas as pd\n",
    "\n",
    "df = pd.read_csv(\"datasets.csv\")\n",
    "df2 = df.copy()\n",
    "df.head(1)"
   ]
  },
  {
   "cell_type": "code",
   "execution_count": 2,
   "id": "55d781da",
   "metadata": {},
   "outputs": [],
   "source": [
    "from selenium import webdriver\n",
    "from selenium.webdriver.chrome.service import Service as ChromeService\n",
    "from webdriver_manager.chrome import ChromeDriverManager\n",
    "\n",
    "from selenium.common.exceptions import NoSuchElementException\n",
    "\n",
    "from selenium.webdriver.common.by import By\n",
    "from selenium.webdriver.support.ui import WebDriverWait\n",
    "from selenium.webdriver.support import expected_conditions as EC\n",
    "import time"
   ]
  },
  {
   "cell_type": "code",
   "execution_count": 55,
   "id": "654fb65a",
   "metadata": {},
   "outputs": [],
   "source": [
    "def wait_return_text (driver, loc):\n",
    "    try:\n",
    "        return WebDriverWait(driver, 3).until(EC.presence_of_element_located((By.CSS_SELECTOR, loc))).text\n",
    "    except:\n",
    "        return False\n",
    "    \n",
    "def get_ub(driver):\n",
    "    try:\n",
    "        parent = WebDriverWait(driver, 3).until(EC.presence_of_element_located((By.XPATH, \"//h2[text()='Usability']\"))).find_element(By.XPATH, \"..\").find_element(By.XPATH, \"..\")\n",
    "        return parent.find_elements(By.XPATH, \"./*\")[1].text\n",
    "    except:\n",
    "        return False\n",
    "    \n",
    "def get_name(driver):\n",
    "    try:\n",
    "        element = WebDriverWait(driver, 3).until(EC.presence_of_element_located((By.XPATH, \"//div[@wrap='hide']\"))).find_elements(By.XPATH, \"./*\")[0].find_elements(By.XPATH, \"./*\")[0]\n",
    "        return element.text\n",
    "    except:\n",
    "        return False"
   ]
  },
  {
   "cell_type": "code",
   "execution_count": 145,
   "id": "d4bdf6bc",
   "metadata": {},
   "outputs": [],
   "source": [
    "def get_rows_cols(driver):\n",
    "    parent = WebDriverWait(driver, 3).until(EC.presence_of_element_located((By.XPATH, \"//div[text()='Total Rows']\"))).find_element(By.XPATH, \"..\").find_element(By.XPATH, \"..\").find_element(By.XPATH, \"..\").find_element(By.XPATH, \"..\").find_element(By.XPATH, \"..\").find_element(By.XPATH, \"..\").find_element(By.XPATH, \"..\").find_element(By.XPATH, \"..\")\n",
    "    texts = [i.text for i in parent.find_elements(By.XPATH, \"./*\")][1].split(\"\\n\")\n",
    "    mv = max(int(texts[i]) for i in range(len(texts)) if i % 3 == 1)\n",
    "    return mv, texts[texts.index(str(mv)) +1]"
   ]
  },
  {
   "cell_type": "code",
   "execution_count": 98,
   "id": "371387f4",
   "metadata": {},
   "outputs": [],
   "source": [
    "driver = webdriver.Chrome(service=ChromeService(ChromeDriverManager().install()))"
   ]
  },
  {
   "cell_type": "code",
   "execution_count": 146,
   "id": "afc59856",
   "metadata": {},
   "outputs": [],
   "source": [
    "for idx, row in df2.iterrows():\n",
    "    if df2.at[idx, 'name'] != 'False':\n",
    "        continue\n",
    "    tmp_link = df2.at[idx, 'link']\n",
    "    driver.get(tmp_link)\n",
    "    try:\n",
    "        rows, cols = get_rows_cols(driver)\n",
    "        df2.at[idx, 'name'] = get_name(driver)\n",
    "        df2.at[idx, 'ub'] = get_ub(driver)\n",
    "        df2.at[idx, 'rows'] = rows\n",
    "        df2.at[idx, 'cols'] = cols\n",
    "    except:\n",
    "        continue"
   ]
  },
  {
   "cell_type": "code",
   "execution_count": 148,
   "id": "1a9e42f0",
   "metadata": {},
   "outputs": [
    {
     "name": "stdout",
     "output_type": "stream",
     "text": [
      "171\n",
      "97\n"
     ]
    }
   ],
   "source": [
    "print((df == \"False\").any(axis=1).sum())\n",
    "print((df2 == \"False\").any(axis=1).sum())"
   ]
  },
  {
   "cell_type": "code",
   "execution_count": null,
   "id": "19ad9188",
   "metadata": {},
   "outputs": [],
   "source": [
    "for idx, row in df2.iterrows():\n",
    "    rows = df2.at[idx, 'rows']\n",
    "    cols = df2.at[idx, 'cols']\n",
    "    try:\n",
    "        rows = str(rows)\n",
    "    except:\n",
    "    try:\n",
    "        cols = str(cols)\n",
    "    except:\n",
    "    if (\"k\" in rows) or (\"K\" in rows):\n",
    "        try:\n",
    "            rows = float(rows[:-1])*1000\n",
    "            \n",
    "\n"
   ]
  },
  {
   "cell_type": "code",
   "execution_count": 162,
   "id": "a5de49ed",
   "metadata": {},
   "outputs": [
    {
     "data": {
      "text/plain": [
       "'12345'"
      ]
     },
     "execution_count": 162,
     "metadata": {},
     "output_type": "execute_result"
    }
   ],
   "source": [
    "a = \"123456\"\n",
    "a[:-1]"
   ]
  },
  {
   "cell_type": "code",
   "execution_count": 161,
   "id": "af56d8f7",
   "metadata": {},
   "outputs": [
    {
     "data": {
      "text/html": [
       "<div>\n",
       "<style scoped>\n",
       "    .dataframe tbody tr th:only-of-type {\n",
       "        vertical-align: middle;\n",
       "    }\n",
       "\n",
       "    .dataframe tbody tr th {\n",
       "        vertical-align: top;\n",
       "    }\n",
       "\n",
       "    .dataframe thead th {\n",
       "        text-align: right;\n",
       "    }\n",
       "</style>\n",
       "<table border=\"1\" class=\"dataframe\">\n",
       "  <thead>\n",
       "    <tr style=\"text-align: right;\">\n",
       "      <th></th>\n",
       "      <th>name</th>\n",
       "      <th>rows</th>\n",
       "      <th>cols</th>\n",
       "      <th>ub</th>\n",
       "      <th>link</th>\n",
       "    </tr>\n",
       "  </thead>\n",
       "  <tbody>\n",
       "    <tr>\n",
       "      <th>0</th>\n",
       "      <td>Telco Customer Churn</td>\n",
       "      <td>7043</td>\n",
       "      <td>21</td>\n",
       "      <td>8.82</td>\n",
       "      <td>https://www.kaggle.com/datasets/blastchar/telc...</td>\n",
       "    </tr>\n",
       "    <tr>\n",
       "      <th>1</th>\n",
       "      <td>Customer Churn</td>\n",
       "      <td>3333</td>\n",
       "      <td>11</td>\n",
       "      <td>9.41</td>\n",
       "      <td>https://www.kaggle.com/datasets/barun2104/tele...</td>\n",
       "    </tr>\n",
       "    <tr>\n",
       "      <th>2</th>\n",
       "      <td>Bank Customer Churn</td>\n",
       "      <td>10000</td>\n",
       "      <td>18</td>\n",
       "      <td>10.00</td>\n",
       "      <td>https://www.kaggle.com/datasets/radheshyamkoll...</td>\n",
       "    </tr>\n",
       "    <tr>\n",
       "      <th>3</th>\n",
       "      <td>Customer Churn Dataset</td>\n",
       "      <td>64.4k</td>\n",
       "      <td>12</td>\n",
       "      <td>10.00</td>\n",
       "      <td>https://www.kaggle.com/datasets/muhammadshahid...</td>\n",
       "    </tr>\n",
       "    <tr>\n",
       "      <th>4</th>\n",
       "      <td>Bank Customer Churn Dataset</td>\n",
       "      <td>10000</td>\n",
       "      <td>12</td>\n",
       "      <td>10.00</td>\n",
       "      <td>https://www.kaggle.com/datasets/gauravtopre/ba...</td>\n",
       "    </tr>\n",
       "    <tr>\n",
       "      <th>...</th>\n",
       "      <td>...</td>\n",
       "      <td>...</td>\n",
       "      <td>...</td>\n",
       "      <td>...</td>\n",
       "      <td>...</td>\n",
       "    </tr>\n",
       "    <tr>\n",
       "      <th>763</th>\n",
       "      <td>telco_churn_csv</td>\n",
       "      <td>7043</td>\n",
       "      <td>21</td>\n",
       "      <td>1.18</td>\n",
       "      <td>https://www.kaggle.com/datasets/mydang1306/tel...</td>\n",
       "    </tr>\n",
       "    <tr>\n",
       "      <th>764</th>\n",
       "      <td>Telcom_Customer_Churn</td>\n",
       "      <td>7043</td>\n",
       "      <td>30</td>\n",
       "      <td>0</td>\n",
       "      <td>https://www.kaggle.com/datasets/hinalpandya159...</td>\n",
       "    </tr>\n",
       "    <tr>\n",
       "      <th>765</th>\n",
       "      <td>hcltech_dataset</td>\n",
       "      <td>999</td>\n",
       "      <td>22</td>\n",
       "      <td>0</td>\n",
       "      <td>https://www.kaggle.com/datasets/ankitprem/hclt...</td>\n",
       "    </tr>\n",
       "    <tr>\n",
       "      <th>766</th>\n",
       "      <td>uv6696</td>\n",
       "      <td>6347</td>\n",
       "      <td>13</td>\n",
       "      <td>0</td>\n",
       "      <td>https://www.kaggle.com/datasets/dnyaneshpainja...</td>\n",
       "    </tr>\n",
       "    <tr>\n",
       "      <th>767</th>\n",
       "      <td>Churn_Modelling</td>\n",
       "      <td>10000</td>\n",
       "      <td>14</td>\n",
       "      <td>5.29</td>\n",
       "      <td>https://www.kaggle.com/datasets/jayapriyadatas...</td>\n",
       "    </tr>\n",
       "  </tbody>\n",
       "</table>\n",
       "<p>768 rows × 5 columns</p>\n",
       "</div>"
      ],
      "text/plain": [
       "                            name   rows cols     ub  \\\n",
       "0           Telco Customer Churn   7043   21   8.82   \n",
       "1                 Customer Churn   3333   11   9.41   \n",
       "2            Bank Customer Churn  10000   18  10.00   \n",
       "3         Customer Churn Dataset  64.4k   12  10.00   \n",
       "4    Bank Customer Churn Dataset  10000   12  10.00   \n",
       "..                           ...    ...  ...    ...   \n",
       "763              telco_churn_csv   7043   21   1.18   \n",
       "764        Telcom_Customer_Churn   7043   30      0   \n",
       "765              hcltech_dataset    999   22      0   \n",
       "766                       uv6696   6347   13      0   \n",
       "767              Churn_Modelling  10000   14   5.29   \n",
       "\n",
       "                                                  link  \n",
       "0    https://www.kaggle.com/datasets/blastchar/telc...  \n",
       "1    https://www.kaggle.com/datasets/barun2104/tele...  \n",
       "2    https://www.kaggle.com/datasets/radheshyamkoll...  \n",
       "3    https://www.kaggle.com/datasets/muhammadshahid...  \n",
       "4    https://www.kaggle.com/datasets/gauravtopre/ba...  \n",
       "..                                                 ...  \n",
       "763  https://www.kaggle.com/datasets/mydang1306/tel...  \n",
       "764  https://www.kaggle.com/datasets/hinalpandya159...  \n",
       "765  https://www.kaggle.com/datasets/ankitprem/hclt...  \n",
       "766  https://www.kaggle.com/datasets/dnyaneshpainja...  \n",
       "767  https://www.kaggle.com/datasets/jayapriyadatas...  \n",
       "\n",
       "[768 rows x 5 columns]"
      ]
     },
     "execution_count": 161,
     "metadata": {},
     "output_type": "execute_result"
    }
   ],
   "source": [
    "df2"
   ]
  },
  {
   "cell_type": "code",
   "execution_count": null,
   "id": "a22c232c",
   "metadata": {},
   "outputs": [],
   "source": []
  }
 ],
 "metadata": {
  "kernelspec": {
   "display_name": "uP2",
   "language": "python",
   "name": "python3"
  },
  "language_info": {
   "codemirror_mode": {
    "name": "ipython",
    "version": 3
   },
   "file_extension": ".py",
   "mimetype": "text/x-python",
   "name": "python",
   "nbconvert_exporter": "python",
   "pygments_lexer": "ipython3",
   "version": "3.11.13"
  }
 },
 "nbformat": 4,
 "nbformat_minor": 5
}

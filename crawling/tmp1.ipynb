{
 "cells": [
  {
   "cell_type": "code",
   "execution_count": 3,
   "id": "4c94683a",
   "metadata": {},
   "outputs": [],
   "source": [
    "import pandas as pd\n",
    "import numpy as np\n",
    "\n",
    "df = pd.read_csv(\"dataset2.csv\")"
   ]
  },
  {
   "cell_type": "code",
   "execution_count": 4,
   "id": "d45cc36c",
   "metadata": {},
   "outputs": [],
   "source": [
    "df = df.replace('False', np.nan)"
   ]
  },
  {
   "cell_type": "code",
   "execution_count": 5,
   "id": "93312b16",
   "metadata": {},
   "outputs": [],
   "source": [
    "df = df.dropna()"
   ]
  },
  {
   "cell_type": "code",
   "execution_count": 7,
   "id": "02456a2c",
   "metadata": {},
   "outputs": [],
   "source": [
    "def convert_and_drop(df):\n",
    "    # rows, cols 컬럼을 int로 변환, 변환 불가 값은 NaN 처리\n",
    "    df['rows_int'] = pd.to_numeric(df['rows'], errors='coerce')\n",
    "    df['cols_int'] = pd.to_numeric(df['cols'], errors='coerce')\n",
    "\n",
    "    # NaN이 포함된 행 모두 드랍\n",
    "    df_cleaned = df.dropna(subset=['rows_int', 'cols_int'])\n",
    "\n",
    "    # int 타입으로 변환\n",
    "    df_cleaned['rows'] = df_cleaned['rows_int'].astype(int)\n",
    "    df_cleaned['cols'] = df_cleaned['cols_int'].astype(int)\n",
    "\n",
    "    # 임시 컬럼 삭제\n",
    "    df_cleaned = df_cleaned.drop(columns=['rows_int', 'cols_int'])\n",
    "\n",
    "    return df_cleaned"
   ]
  },
  {
   "cell_type": "code",
   "execution_count": 8,
   "id": "75ddc8d3",
   "metadata": {},
   "outputs": [],
   "source": [
    "df = convert_and_drop(df)"
   ]
  },
  {
   "cell_type": "code",
   "execution_count": 12,
   "id": "4409da3c",
   "metadata": {},
   "outputs": [
    {
     "data": {
      "text/plain": [
       "(671, 6)"
      ]
     },
     "execution_count": 12,
     "metadata": {},
     "output_type": "execute_result"
    }
   ],
   "source": [
    "df.shape"
   ]
  },
  {
   "cell_type": "code",
   "execution_count": 10,
   "id": "3894e995",
   "metadata": {},
   "outputs": [],
   "source": [
    "df['ub'] = pd.to_numeric(df['ub'], errors='coerce')"
   ]
  },
  {
   "cell_type": "code",
   "execution_count": 11,
   "id": "fdf249e7",
   "metadata": {},
   "outputs": [],
   "source": [
    "df = df.dropna()"
   ]
  },
  {
   "cell_type": "code",
   "execution_count": 13,
   "id": "87885898",
   "metadata": {},
   "outputs": [],
   "source": [
    "df = df.sort_values(by='ub', ascending=False)\n",
    "df.to_csv('df_clean.csv', index=False)"
   ]
  },
  {
   "cell_type": "code",
   "execution_count": null,
   "id": "9c50db54",
   "metadata": {},
   "outputs": [],
   "source": []
  }
 ],
 "metadata": {
  "kernelspec": {
   "display_name": "u_project2",
   "language": "python",
   "name": "python3"
  },
  "language_info": {
   "codemirror_mode": {
    "name": "ipython",
    "version": 3
   },
   "file_extension": ".py",
   "mimetype": "text/x-python",
   "name": "python",
   "nbconvert_exporter": "python",
   "pygments_lexer": "ipython3",
   "version": "3.11.13"
  }
 },
 "nbformat": 4,
 "nbformat_minor": 5
}

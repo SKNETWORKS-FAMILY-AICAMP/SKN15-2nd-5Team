{
 "cells": [
  {
   "cell_type": "code",
   "execution_count": 1,
   "id": "92af15b2",
   "metadata": {},
   "outputs": [],
   "source": [
    "import pandas as pd\n",
    "import numpy as np \n",
    "import matplotlib.pyplot as plt\n",
    "import seaborn as sns\n",
    "from sklearn.impute import SimpleImputer\n",
    "import datetime\n",
    "from sklearn.compose import ColumnTransformer\n",
    "from sklearn.preprocessing import OneHotEncoder\n",
    "from sklearn import metrics\n",
    "from sklearn.model_selection import train_test_split\n",
    "from sklearn.model_selection import StratifiedKFold"
   ]
  },
  {
   "cell_type": "code",
   "execution_count": 2,
   "id": "a87b8afa",
   "metadata": {},
   "outputs": [],
   "source": [
    "train_data=pd.read_csv(\"../../data_p2/ml_case_training_data.csv\", encoding='utf-8')\n",
    "train_hist=pd.read_csv(\"../../data_p2/ml_case_training_hist_data.csv\", encoding='cp949')\n",
    "train_out=pd.read_csv(\"../../data_p2/ml_case_training_output.csv\", encoding='utf-8')"
   ]
  },
  {
   "cell_type": "code",
   "execution_count": 3,
   "id": "5a9d1166",
   "metadata": {},
   "outputs": [],
   "source": [
    "#결측치가 많은 7개 칼럼 삭제\n",
    "nan_count=((train_data.isna().sum()/train_data.shape[0])*100).sort_values(ascending=False)\n",
    "nan_count=nan_count[nan_count>0]\n",
    "train_data.drop(nan_count.index[:7],axis=1,inplace=True)"
   ]
  },
  {
   "cell_type": "code",
   "execution_count": 4,
   "id": "a19829bf",
   "metadata": {},
   "outputs": [
    {
     "name": "stderr",
     "output_type": "stream",
     "text": [
      "/tmp/ipykernel_81443/2131512965.py:5: FutureWarning: DataFrame.fillna with 'method' is deprecated and will raise in a future version. Use obj.ffill() or obj.bfill() instead.\n",
      "  'date_end']].fillna(method='bfill')\n"
     ]
    }
   ],
   "source": [
    "#date_modif_prod 결측치 새 카테고리 만들어서 채우기\n",
    "#'date_modif_prod','date_renewal','date_end' 는 bfill로 채움\n",
    "train_data['channel_sales']=train_data['channel_sales'].fillna('new category')\n",
    "train_data[['date_modif_prod','date_renewal','date_end']]=train_data[['date_modif_prod','date_renewal',\n",
    "                                                            'date_end']].fillna(method='bfill')"
   ]
  },
  {
   "cell_type": "code",
   "execution_count": 5,
   "id": "7f4afea2",
   "metadata": {},
   "outputs": [],
   "source": [
    "#'forecast_discount_energy','forecast_price_pow_p1','margin_gross_pow_ele','margin_net_pow_ele','net_margin','pow_max'\n",
    "# 정수변환 및 최빈값 채우기\n",
    "for col in [x for x in nan_count.index[8:] if x not in ['date_modif_prod','date_renewal','date_end','origin_up','forecast_price_energy_p1','forecast_price_energy_p2']]:\n",
    "    train_data[col] = np.round(pd.to_numeric(train_data[col], errors='coerce')).astype('Int64')"
   ]
  },
  {
   "cell_type": "code",
   "execution_count": 6,
   "id": "84222fe3",
   "metadata": {},
   "outputs": [],
   "source": [
    "#origin_up 결측치 최빈값 채우기\n",
    "origin_imp = SimpleImputer(missing_values=np.nan, strategy='most_frequent')\n",
    "train_data[['origin_up']]=origin_imp.fit_transform(train_data[['origin_up']])"
   ]
  },
  {
   "cell_type": "code",
   "execution_count": 7,
   "id": "6124d4e4",
   "metadata": {},
   "outputs": [],
   "source": [
    "\n",
    "imp_freq = SimpleImputer(missing_values=np.nan, strategy='most_frequent')\n",
    "train_data[\n",
    "    [x for x in nan_count.index[8:] if x not in ['date_modif_prod', 'date_renewal', 'origin_up', 'date_end']]\n",
    "] = imp_freq.fit_transform(\n",
    "    train_data[\n",
    "        [x for x in nan_count.index[8:] if x not in ['date_modif_prod', 'date_renewal', 'origin_up', 'date_end']]\n",
    "    ]\n",
    ")"
   ]
  },
  {
   "cell_type": "code",
   "execution_count": 8,
   "id": "9adcdb2a",
   "metadata": {},
   "outputs": [],
   "source": [
    "train=pd.merge(train_data, train_out, on=['id'])"
   ]
  },
  {
   "cell_type": "code",
   "execution_count": 10,
   "id": "79f39a36",
   "metadata": {},
   "outputs": [],
   "source": [
    "train.to_csv('전처리v1.csv', index=False)"
   ]
  },
  {
   "cell_type": "code",
   "execution_count": 14,
   "id": "86462830",
   "metadata": {},
   "outputs": [
    {
     "data": {
      "text/plain": [
       "(16096, 26)"
      ]
     },
     "execution_count": 14,
     "metadata": {},
     "output_type": "execute_result"
    }
   ],
   "source": [
    "train.head()\n",
    "train.shape"
   ]
  },
  {
   "cell_type": "code",
   "execution_count": 15,
   "id": "c54fa51f",
   "metadata": {},
   "outputs": [],
   "source": [
    "#날짜 변환\n",
    "import pandas as pd\n",
    "\n",
    "datetype_col = [\"date_activ\", \"date_end\", \"date_modif_prod\", \"date_renewal\"]\n",
    "base_date = pd.to_datetime('2000-01-01')\n",
    "\n",
    "for col in datetype_col:\n",
    "    train[col] = pd.to_datetime(train[col], errors='coerce')  # 문자열 → datetime, 결측은 NaT로 유지\n",
    "    train[col] = (train[col] - base_date).dt.days             # 경과일수, 결측은 NaN\n",
    "    train[col] = train[col].astype('Int64')                   # 결측치는 <NA>로, 나머지는 int형"
   ]
  },
  {
   "cell_type": "code",
   "execution_count": 18,
   "id": "1f0990f1",
   "metadata": {},
   "outputs": [
    {
     "data": {
      "text/plain": [
       "date_activ          206\n",
       "date_end           2429\n",
       "date_modif_prod     206\n",
       "date_renewal       4925\n",
       "dtype: Int64"
      ]
     },
     "execution_count": 18,
     "metadata": {},
     "output_type": "execute_result"
    }
   ],
   "source": [
    "train[[\"date_activ\", \"date_end\", \"date_modif_prod\", \"date_renewal\"]].min()"
   ]
  },
  {
   "cell_type": "code",
   "execution_count": 19,
   "id": "e6859c19",
   "metadata": {},
   "outputs": [],
   "source": [
    "train[[\"date_activ\", \"date_end\", \"date_modif_prod\", \"date_renewal\"]] = train[[\"date_activ\", \"date_end\", \"date_modif_prod\", \"date_renewal\"]] - 206"
   ]
  },
  {
   "cell_type": "code",
   "execution_count": 21,
   "id": "f07d6270",
   "metadata": {},
   "outputs": [],
   "source": [
    "train.to_csv('전처리v1.csv', index=False)"
   ]
  },
  {
   "cell_type": "code",
   "execution_count": null,
   "id": "57cb3f66",
   "metadata": {},
   "outputs": [],
   "source": []
  }
 ],
 "metadata": {
  "kernelspec": {
   "display_name": "u_project2",
   "language": "python",
   "name": "python3"
  },
  "language_info": {
   "codemirror_mode": {
    "name": "ipython",
    "version": 3
   },
   "file_extension": ".py",
   "mimetype": "text/x-python",
   "name": "python",
   "nbconvert_exporter": "python",
   "pygments_lexer": "ipython3",
   "version": "3.11.13"
  }
 },
 "nbformat": 4,
 "nbformat_minor": 5
}

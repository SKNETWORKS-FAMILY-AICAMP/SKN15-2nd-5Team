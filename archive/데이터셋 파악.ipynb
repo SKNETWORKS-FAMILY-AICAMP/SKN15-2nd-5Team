{
 "cells": [
  {
   "cell_type": "code",
   "execution_count": null,
   "id": "90eb054f",
   "metadata": {},
   "outputs": [],
   "source": [
    "import pandas as pd\n",
    "import re"
   ]
  },
  {
   "cell_type": "code",
   "execution_count": 81,
   "id": "222b0e5e",
   "metadata": {},
   "outputs": [
    {
     "data": {
      "text/plain": [
       "((16096, 32), (193002, 8), (16096, 2))"
      ]
     },
     "execution_count": 81,
     "metadata": {},
     "output_type": "execute_result"
    }
   ],
   "source": [
    "df1 = pd.read_csv(\"ml_case_training_data.csv\", encoding='utf-8')\n",
    "df2 = pd.read_csv(\"ml_case_training_hist_data.csv\", encoding='cp949')\n",
    "df3 = pd.read_csv(\"ml_case_training_output.csv\", encoding='utf-8')\n",
    "\n",
    "df1.shape , df2.shape, df3.shape"
   ]
  },
  {
   "cell_type": "code",
   "execution_count": 82,
   "id": "ee284222",
   "metadata": {},
   "outputs": [
    {
     "name": "stdout",
     "output_type": "stream",
     "text": [
      "df1 칼럼들 :  Index(['id', 'activity_new', 'campaign_disc_ele', 'channel_sales', 'cons_12m',\n",
      "       'cons_gas_12m', 'cons_last_month', 'date_activ', 'date_end',\n",
      "       'date_first_activ', 'date_modif_prod', 'date_renewal',\n",
      "       'forecast_base_bill_ele', 'forecast_base_bill_year',\n",
      "       'forecast_bill_12m', 'forecast_cons', 'forecast_cons_12m',\n",
      "       'forecast_cons_year', 'forecast_discount_energy',\n",
      "       'forecast_meter_rent_12m', 'forecast_price_energy_p1',\n",
      "       'forecast_price_energy_p2', 'forecast_price_pow_p1', 'has_gas',\n",
      "       'imp_cons', 'margin_gross_pow_ele', 'margin_net_pow_ele', 'nb_prod_act',\n",
      "       'net_margin', 'num_years_antig', 'origin_up', 'pow_max'],\n",
      "      dtype='object')\n",
      "df2 칼럼들 :  Index(['id', 'price_date', 'price_p1_var', 'price_p2_var', 'price_p3_var',\n",
      "       'price_p1_fix', 'price_p2_fix', 'price_p3_fix'],\n",
      "      dtype='object')\n",
      "df3 칼럼들 :  Index(['id', 'churn'], dtype='object')\n"
     ]
    }
   ],
   "source": [
    "print('df1 칼럼들 : ',df1.columns)\n",
    "print('df2 칼럼들 : ',df2.columns)\n",
    "print('df3 칼럼들 : ',df3.columns)"
   ]
  },
  {
   "cell_type": "code",
   "execution_count": null,
   "id": "bde88dc0",
   "metadata": {},
   "outputs": [],
   "source": [
    "df1.head()"
   ]
  },
  {
   "cell_type": "code",
   "execution_count": null,
   "id": "7e8ae3eb",
   "metadata": {},
   "outputs": [],
   "source": [
    "df1.head(5)"
   ]
  },
  {
   "cell_type": "code",
   "execution_count": null,
   "id": "c988a2fe",
   "metadata": {},
   "outputs": [],
   "source": [
    "df2.head(5)"
   ]
  },
  {
   "cell_type": "code",
   "execution_count": null,
   "id": "c0a6802b",
   "metadata": {},
   "outputs": [],
   "source": [
    "def columns_with_missing_percentage(df, threshold):\n",
    "    missing_percentage = df.isnull().mean() * 100\n",
    "    cols_above_threshold = missing_percentage[missing_percentage >= threshold].index.tolist()\n",
    "    return cols_above_threshold\n",
    "\n",
    "dcols_df1 = columns_with_missing_percentage(df1, 70)\n",
    "clean_df1 = df1.drop(columns=dcols_df1)\n",
    "clean_df1.shape"
   ]
  },
  {
   "cell_type": "code",
   "execution_count": null,
   "id": "aae96309",
   "metadata": {},
   "outputs": [],
   "source": [
    "clean_df1.head()"
   ]
  },
  {
   "cell_type": "code",
   "execution_count": null,
   "id": "36dadbf1",
   "metadata": {},
   "outputs": [],
   "source": [
    "df1.shape"
   ]
  },
  {
   "cell_type": "code",
   "execution_count": null,
   "id": "5b74cdc8",
   "metadata": {},
   "outputs": [],
   "source": [
    "df2.shape"
   ]
  },
  {
   "cell_type": "code",
   "execution_count": null,
   "id": "c714d942",
   "metadata": {},
   "outputs": [],
   "source": [
    "dcols_df1"
   ]
  },
  {
   "cell_type": "code",
   "execution_count": null,
   "id": "1f055bf1",
   "metadata": {},
   "outputs": [],
   "source": [
    "df2.columns"
   ]
  },
  {
   "cell_type": "code",
   "execution_count": null,
   "id": "e7240b68",
   "metadata": {},
   "outputs": [],
   "source": [
    "for col in df1.columns:\n",
    "    missing_ratio = df1[col].isnull().mean() * 100\n",
    "    print(f\"{col}: {missing_ratio:.2f}%\")"
   ]
  },
  {
   "cell_type": "code",
   "execution_count": null,
   "id": "d1510994",
   "metadata": {},
   "outputs": [],
   "source": [
    "for col in df1.columns:\n",
    "    if pd.api.types.is_integer_dtype(df1[col]) or pd.api.types.is_object_dtype(df1[col]) or pd.api.types.is_categorical_dtype(df1[col]):\n",
    "        # 이산형: 정수형, 문자형, 카테고리형\n",
    "        cardinality = df1[col].nunique()\n",
    "        print(f\"{cardinality}\")\n",
    "    elif pd.api.types.is_float_dtype(df1[col]):\n",
    "        # 연속형: 실수형\n",
    "        print(f\"-\")\n",
    "    else:\n",
    "        # 기타 데이터형\n",
    "        print(f\"-\")"
   ]
  },
  {
   "cell_type": "code",
   "execution_count": null,
   "id": "1dd0c511",
   "metadata": {},
   "outputs": [],
   "source": [
    "import matplotlib.pyplot as plt\n",
    "plt.rcParams['font.family'] = 'NanumGothic'  # 또는 'Malgun Gothic', 'AppleGothic' 등 시스템에 설치된 한글 폰트명\n",
    "\n",
    "\n",
    "for col in df1.columns:\n",
    "    cardinality = df1[col].nunique()\n",
    "    if (0 < cardinality <= 20) or col ==\"activity_new\":\n",
    "        value_counts = df1[col].value_counts(normalize=True)\n",
    "        plt.figure(figsize=(5, 5))\n",
    "        value_counts.plot.pie(autopct='%1.1f%%', startangle=90)\n",
    "        plt.title(f\"{col} (카디널리티: {cardinality})\")\n",
    "        plt.ylabel('')  # y축 레이블 제거\n",
    "        plt.show()\n"
   ]
  },
  {
   "cell_type": "code",
   "execution_count": null,
   "id": "0307a8bd",
   "metadata": {},
   "outputs": [],
   "source": [
    "df2.groupby(\"id\").sum"
   ]
  },
  {
   "cell_type": "code",
   "execution_count": null,
   "id": "a427d192",
   "metadata": {},
   "outputs": [],
   "source": [
    "grouped_sum = df2.groupby('id').count()\n",
    "type(grouped_sum)"
   ]
  },
  {
   "cell_type": "code",
   "execution_count": null,
   "id": "ad9f1d00",
   "metadata": {},
   "outputs": [],
   "source": [
    "grouped_sum.columns"
   ]
  },
  {
   "cell_type": "code",
   "execution_count": null,
   "id": "a80aa958",
   "metadata": {},
   "outputs": [],
   "source": [
    "grouped_sum[\"price_date\"].unique()"
   ]
  },
  {
   "cell_type": "code",
   "execution_count": null,
   "id": "1ff8ddc3",
   "metadata": {},
   "outputs": [],
   "source": [
    "discrete_cols = df2.select_dtypes(include=['object', 'category']).columns.tolist()\n",
    "continuous_cols = df2.select_dtypes(include=['number']).columns.tolist()"
   ]
  },
  {
   "cell_type": "code",
   "execution_count": null,
   "id": "3d0cdc64",
   "metadata": {},
   "outputs": [],
   "source": [
    "import matplotlib.pyplot as plt\n",
    "\n",
    "# 고유값별 비율 계산 (normalize=True로 비율, *100으로 퍼센트)\n",
    "value_counts = grouped_sum[\"price_date\"].value_counts(normalize=True) * 100\n",
    "\n",
    "# 파이차트 시각화\n",
    "plt.figure(figsize=(6, 6))\n",
    "value_counts.plot.pie(autopct='%1.1f%%', startangle=90)\n",
    "plt.title('Price Date Unique Value Ratio')\n",
    "plt.ylabel('')  # y축 레이블 제거\n",
    "plt.show()\n"
   ]
  },
  {
   "cell_type": "code",
   "execution_count": null,
   "id": "0c7ca6e5",
   "metadata": {},
   "outputs": [],
   "source": [
    "df2.head(10)"
   ]
  },
  {
   "cell_type": "code",
   "execution_count": null,
   "id": "23ab19a9",
   "metadata": {},
   "outputs": [],
   "source": [
    "count_by_id = df2.groupby('id').size()"
   ]
  },
  {
   "cell_type": "code",
   "execution_count": null,
   "id": "4c35620d",
   "metadata": {},
   "outputs": [],
   "source": [
    "count_by_id\n",
    "ids_not_12 = count_by_id[count_by_id != 12].index.tolist()"
   ]
  },
  {
   "cell_type": "code",
   "execution_count": null,
   "id": "eeb20900",
   "metadata": {},
   "outputs": [],
   "source": [
    "df2[df2['id'].isin(ids_not_12)].head(20)"
   ]
  },
  {
   "cell_type": "code",
   "execution_count": null,
   "id": "8bbfe1e2",
   "metadata": {},
   "outputs": [],
   "source": [
    "df2['price_date'].unique()"
   ]
  },
  {
   "cell_type": "code",
   "execution_count": null,
   "id": "09e0ff5e",
   "metadata": {},
   "outputs": [],
   "source": [
    "for col in df1.columns:\n",
    "    if df1[col].isnull().any():\n",
    "        print(1)\n",
    "    else:\n",
    "        print(0)"
   ]
  },
  {
   "cell_type": "code",
   "execution_count": null,
   "id": "390889fb",
   "metadata": {},
   "outputs": [],
   "source": [
    "df1[\"activity_new\"].unique()"
   ]
  },
  {
   "cell_type": "code",
   "execution_count": 78,
   "id": "b5f9cd55",
   "metadata": {},
   "outputs": [],
   "source": [
    "df1 = pd.merge(df1, df3, on='id', how='inner')  # 두 번째 병합"
   ]
  },
  {
   "cell_type": "code",
   "execution_count": 79,
   "id": "5508d4ac",
   "metadata": {},
   "outputs": [
    {
     "data": {
      "text/plain": [
       "(16096, 33)"
      ]
     },
     "execution_count": 79,
     "metadata": {},
     "output_type": "execute_result"
    }
   ],
   "source": [
    "df1.shape"
   ]
  },
  {
   "cell_type": "code",
   "execution_count": 80,
   "id": "d7478bb4",
   "metadata": {},
   "outputs": [
    {
     "data": {
      "text/html": [
       "<div>\n",
       "<style scoped>\n",
       "    .dataframe tbody tr th:only-of-type {\n",
       "        vertical-align: middle;\n",
       "    }\n",
       "\n",
       "    .dataframe tbody tr th {\n",
       "        vertical-align: top;\n",
       "    }\n",
       "\n",
       "    .dataframe thead th {\n",
       "        text-align: right;\n",
       "    }\n",
       "</style>\n",
       "<table border=\"1\" class=\"dataframe\">\n",
       "  <thead>\n",
       "    <tr style=\"text-align: right;\">\n",
       "      <th></th>\n",
       "      <th>id</th>\n",
       "      <th>price_date</th>\n",
       "      <th>price_p1_var</th>\n",
       "      <th>price_p2_var</th>\n",
       "      <th>price_p3_var</th>\n",
       "      <th>price_p1_fix</th>\n",
       "      <th>price_p2_fix</th>\n",
       "      <th>price_p3_fix</th>\n",
       "    </tr>\n",
       "  </thead>\n",
       "  <tbody>\n",
       "    <tr>\n",
       "      <th>0</th>\n",
       "      <td>038af19179925da21a25619c5a24b745</td>\n",
       "      <td>2015-01-01</td>\n",
       "      <td>0.151367</td>\n",
       "      <td>0.000000</td>\n",
       "      <td>0.000000</td>\n",
       "      <td>44.266931</td>\n",
       "      <td>0.00000</td>\n",
       "      <td>0.000000</td>\n",
       "    </tr>\n",
       "    <tr>\n",
       "      <th>1</th>\n",
       "      <td>038af19179925da21a25619c5a24b745</td>\n",
       "      <td>2015-02-01</td>\n",
       "      <td>0.151367</td>\n",
       "      <td>0.000000</td>\n",
       "      <td>0.000000</td>\n",
       "      <td>44.266931</td>\n",
       "      <td>0.00000</td>\n",
       "      <td>0.000000</td>\n",
       "    </tr>\n",
       "    <tr>\n",
       "      <th>2</th>\n",
       "      <td>038af19179925da21a25619c5a24b745</td>\n",
       "      <td>2015-03-01</td>\n",
       "      <td>0.151367</td>\n",
       "      <td>0.000000</td>\n",
       "      <td>0.000000</td>\n",
       "      <td>44.266931</td>\n",
       "      <td>0.00000</td>\n",
       "      <td>0.000000</td>\n",
       "    </tr>\n",
       "    <tr>\n",
       "      <th>3</th>\n",
       "      <td>038af19179925da21a25619c5a24b745</td>\n",
       "      <td>2015-04-01</td>\n",
       "      <td>0.149626</td>\n",
       "      <td>0.000000</td>\n",
       "      <td>0.000000</td>\n",
       "      <td>44.266931</td>\n",
       "      <td>0.00000</td>\n",
       "      <td>0.000000</td>\n",
       "    </tr>\n",
       "    <tr>\n",
       "      <th>4</th>\n",
       "      <td>038af19179925da21a25619c5a24b745</td>\n",
       "      <td>2015-05-01</td>\n",
       "      <td>0.149626</td>\n",
       "      <td>0.000000</td>\n",
       "      <td>0.000000</td>\n",
       "      <td>44.266931</td>\n",
       "      <td>0.00000</td>\n",
       "      <td>0.000000</td>\n",
       "    </tr>\n",
       "    <tr>\n",
       "      <th>...</th>\n",
       "      <td>...</td>\n",
       "      <td>...</td>\n",
       "      <td>...</td>\n",
       "      <td>...</td>\n",
       "      <td>...</td>\n",
       "      <td>...</td>\n",
       "      <td>...</td>\n",
       "      <td>...</td>\n",
       "    </tr>\n",
       "    <tr>\n",
       "      <th>192997</th>\n",
       "      <td>16f51cdc2baa19af0b940ee1b3dd17d5</td>\n",
       "      <td>2015-08-01</td>\n",
       "      <td>0.119916</td>\n",
       "      <td>0.102232</td>\n",
       "      <td>0.076257</td>\n",
       "      <td>40.728885</td>\n",
       "      <td>24.43733</td>\n",
       "      <td>16.291555</td>\n",
       "    </tr>\n",
       "    <tr>\n",
       "      <th>192998</th>\n",
       "      <td>16f51cdc2baa19af0b940ee1b3dd17d5</td>\n",
       "      <td>2015-09-01</td>\n",
       "      <td>0.119916</td>\n",
       "      <td>0.102232</td>\n",
       "      <td>0.076257</td>\n",
       "      <td>40.728885</td>\n",
       "      <td>24.43733</td>\n",
       "      <td>16.291555</td>\n",
       "    </tr>\n",
       "    <tr>\n",
       "      <th>192999</th>\n",
       "      <td>16f51cdc2baa19af0b940ee1b3dd17d5</td>\n",
       "      <td>2015-10-01</td>\n",
       "      <td>0.119916</td>\n",
       "      <td>0.102232</td>\n",
       "      <td>0.076257</td>\n",
       "      <td>40.728885</td>\n",
       "      <td>24.43733</td>\n",
       "      <td>16.291555</td>\n",
       "    </tr>\n",
       "    <tr>\n",
       "      <th>193000</th>\n",
       "      <td>16f51cdc2baa19af0b940ee1b3dd17d5</td>\n",
       "      <td>2015-11-01</td>\n",
       "      <td>0.119916</td>\n",
       "      <td>0.102232</td>\n",
       "      <td>0.076257</td>\n",
       "      <td>40.728885</td>\n",
       "      <td>24.43733</td>\n",
       "      <td>16.291555</td>\n",
       "    </tr>\n",
       "    <tr>\n",
       "      <th>193001</th>\n",
       "      <td>16f51cdc2baa19af0b940ee1b3dd17d5</td>\n",
       "      <td>2015-12-01</td>\n",
       "      <td>0.119916</td>\n",
       "      <td>0.102232</td>\n",
       "      <td>0.076257</td>\n",
       "      <td>40.728885</td>\n",
       "      <td>24.43733</td>\n",
       "      <td>16.291555</td>\n",
       "    </tr>\n",
       "  </tbody>\n",
       "</table>\n",
       "<p>193002 rows × 8 columns</p>\n",
       "</div>"
      ],
      "text/plain": [
       "                                      id  price_date  price_p1_var  \\\n",
       "0       038af19179925da21a25619c5a24b745  2015-01-01      0.151367   \n",
       "1       038af19179925da21a25619c5a24b745  2015-02-01      0.151367   \n",
       "2       038af19179925da21a25619c5a24b745  2015-03-01      0.151367   \n",
       "3       038af19179925da21a25619c5a24b745  2015-04-01      0.149626   \n",
       "4       038af19179925da21a25619c5a24b745  2015-05-01      0.149626   \n",
       "...                                  ...         ...           ...   \n",
       "192997  16f51cdc2baa19af0b940ee1b3dd17d5  2015-08-01      0.119916   \n",
       "192998  16f51cdc2baa19af0b940ee1b3dd17d5  2015-09-01      0.119916   \n",
       "192999  16f51cdc2baa19af0b940ee1b3dd17d5  2015-10-01      0.119916   \n",
       "193000  16f51cdc2baa19af0b940ee1b3dd17d5  2015-11-01      0.119916   \n",
       "193001  16f51cdc2baa19af0b940ee1b3dd17d5  2015-12-01      0.119916   \n",
       "\n",
       "        price_p2_var  price_p3_var  price_p1_fix  price_p2_fix  price_p3_fix  \n",
       "0           0.000000      0.000000     44.266931       0.00000      0.000000  \n",
       "1           0.000000      0.000000     44.266931       0.00000      0.000000  \n",
       "2           0.000000      0.000000     44.266931       0.00000      0.000000  \n",
       "3           0.000000      0.000000     44.266931       0.00000      0.000000  \n",
       "4           0.000000      0.000000     44.266931       0.00000      0.000000  \n",
       "...              ...           ...           ...           ...           ...  \n",
       "192997      0.102232      0.076257     40.728885      24.43733     16.291555  \n",
       "192998      0.102232      0.076257     40.728885      24.43733     16.291555  \n",
       "192999      0.102232      0.076257     40.728885      24.43733     16.291555  \n",
       "193000      0.102232      0.076257     40.728885      24.43733     16.291555  \n",
       "193001      0.102232      0.076257     40.728885      24.43733     16.291555  \n",
       "\n",
       "[193002 rows x 8 columns]"
      ]
     },
     "execution_count": 80,
     "metadata": {},
     "output_type": "execute_result"
    }
   ],
   "source": [
    "df2"
   ]
  },
  {
   "cell_type": "code",
   "execution_count": null,
   "id": "706bbf49",
   "metadata": {},
   "outputs": [],
   "source": []
  }
 ],
 "metadata": {
  "kernelspec": {
   "display_name": "u_project2",
   "language": "python",
   "name": "python3"
  },
  "language_info": {
   "codemirror_mode": {
    "name": "ipython",
    "version": 3
   },
   "file_extension": ".py",
   "mimetype": "text/x-python",
   "name": "python",
   "nbconvert_exporter": "python",
   "pygments_lexer": "ipython3",
   "version": "3.11.13"
  }
 },
 "nbformat": 4,
 "nbformat_minor": 5
}

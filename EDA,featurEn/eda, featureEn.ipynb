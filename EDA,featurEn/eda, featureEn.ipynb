{
 "cells": [
  {
   "cell_type": "code",
   "execution_count": 2,
   "id": "17296d92",
   "metadata": {},
   "outputs": [],
   "source": [
    "import pandas as pd\n",
    "from sklearn.impute import SimpleImputer\n",
    "\n",
    "train_data = pd.read_csv(\"../dataSet/ml_case_training_data.csv\", encoding='utf-8')\n",
    "train_hist = pd.read_csv(\"../dataSet/ml_case_training_hist_data.csv\", encoding='cp949')\n",
    "train_out = pd.read_csv(\"../dataSet/ml_case_training_output.csv\", encoding='utf-8')"
   ]
  },
  {
   "cell_type": "code",
   "execution_count": 3,
   "id": "f67acb3a",
   "metadata": {},
   "outputs": [],
   "source": [
    "clean = pd.merge(train_data, train_out, on=\"id\")"
   ]
  },
  {
   "cell_type": "code",
   "execution_count": 4,
   "id": "fed0b0f0",
   "metadata": {},
   "outputs": [
    {
     "data": {
      "text/plain": [
       "(16096, 27)"
      ]
     },
     "execution_count": 4,
     "metadata": {},
     "output_type": "execute_result"
    }
   ],
   "source": [
    "#결측치 비율이 70퍼센트 이상이 칼럼 제거\n",
    "clean = clean.drop([\n",
    "    'campaign_disc_ele',\n",
    "    'date_first_activ',\n",
    "    'forecast_base_bill_ele',\n",
    "    'forecast_base_bill_year',\n",
    "    'forecast_bill_12m',\n",
    "    'forecast_cons'\n",
    "], axis=1)\n",
    "clean.shape"
   ]
  },
  {
   "cell_type": "code",
   "execution_count": 5,
   "id": "a9120949",
   "metadata": {},
   "outputs": [],
   "source": [
    "#고객 회사 활동, 고객이 가입한 캠페인 칼럼의 결측치 새 카테고리로 분류\n",
    "cols = ['activity_new', 'channel_sales']\n",
    "clean[cols] = clean[cols].fillna('missing')\n"
   ]
  },
  {
   "cell_type": "code",
   "execution_count": 6,
   "id": "ab47e9e6",
   "metadata": {},
   "outputs": [
    {
     "data": {
      "text/html": [
       "<div>\n",
       "<style scoped>\n",
       "    .dataframe tbody tr th:only-of-type {\n",
       "        vertical-align: middle;\n",
       "    }\n",
       "\n",
       "    .dataframe tbody tr th {\n",
       "        vertical-align: top;\n",
       "    }\n",
       "\n",
       "    .dataframe thead th {\n",
       "        text-align: right;\n",
       "    }\n",
       "</style>\n",
       "<table border=\"1\" class=\"dataframe\">\n",
       "  <thead>\n",
       "    <tr style=\"text-align: right;\">\n",
       "      <th></th>\n",
       "      <th>activity_new</th>\n",
       "      <th>channel_sales</th>\n",
       "    </tr>\n",
       "  </thead>\n",
       "  <tbody>\n",
       "    <tr>\n",
       "      <th>0</th>\n",
       "      <td>esoiiifxdlbkcsluxmfuacbdckommixw</td>\n",
       "      <td>lmkebamcaaclubfxadlmueccxoimlema</td>\n",
       "    </tr>\n",
       "  </tbody>\n",
       "</table>\n",
       "</div>"
      ],
      "text/plain": [
       "                       activity_new                     channel_sales\n",
       "0  esoiiifxdlbkcsluxmfuacbdckommixw  lmkebamcaaclubfxadlmueccxoimlema"
      ]
     },
     "execution_count": 6,
     "metadata": {},
     "output_type": "execute_result"
    }
   ],
   "source": [
    "#카테고리를 워드임베딩하여 카테고리간의 거리를 고려할 수 있도록 한다. (관광업을 하는 고객과 머신러닝을 하는 회사 간의 차이가 머신러닝, 딥러닝을 하는 회사간의 거리보다 크다. 하지만 원 핫 인코딩은 둘 사이의 거리가 같다.)\n",
    "#아쉽게 회사 활동이 코드로 치환되어있어서 패스\n",
    "clean[['activity_new', 'channel_sales']].head(1)"
   ]
  },
  {
   "cell_type": "code",
   "execution_count": 7,
   "id": "d242d810",
   "metadata": {},
   "outputs": [],
   "source": [
    "#날짜 변환\n",
    "import pandas as pd\n",
    "\n",
    "datetype_col = [\"date_activ\", \"date_end\", \"date_modif_prod\", \"date_renewal\"]\n",
    "base_date = pd.to_datetime('2000-01-01')\n",
    "\n",
    "for col in datetype_col:\n",
    "    clean[col] = pd.to_datetime(clean[col], errors='coerce')  # 문자열 → datetime, 결측은 NaT로 유지\n",
    "    clean[col] = (clean[col] - base_date).dt.days             # 경과일수, 결측은 NaN\n",
    "    clean[col] = clean[col].astype('Int64')                   # 결측치는 <NA>로, 나머지는 int형"
   ]
  },
  {
   "cell_type": "code",
   "execution_count": 8,
   "id": "dc138480",
   "metadata": {},
   "outputs": [],
   "source": [
    "#date_end 모두 이탈 안한 케이스. \n",
    "#계약시작일 + 이탈 안한 데이터들의 평균 계약기간으로 설정\n",
    "이탈 = clean[clean['churn'] == 1]\n",
    "유지 = clean[clean['churn'] == 0]\n",
    "\n",
    "m = int((유지[\"date_end\"] - 유지[\"date_activ\"]).mean())\n",
    "mask = clean[\"date_end\"].isna()\n",
    "clean.loc[mask, \"date_end\"] = clean.loc[mask, \"date_activ\"] + m"
   ]
  },
  {
   "cell_type": "code",
   "execution_count": 9,
   "id": "d808a616",
   "metadata": {},
   "outputs": [],
   "source": [
    "#날짜 칼럼의 결측치를 채워야하는데 평균 최빈값으로 대충 채우면 데이터의 무결성이 깨지게된다.\n",
    "#계약 시작일 < 계약 종료일"
   ]
  },
  {
   "cell_type": "code",
   "execution_count": 10,
   "id": "310d3c79",
   "metadata": {},
   "outputs": [],
   "source": [
    "# mask = clean[\"date_end\"] < clean[\"date_renewal\"]\n",
    "# clean[mask].count()"
   ]
  },
  {
   "cell_type": "code",
   "execution_count": 11,
   "id": "1b136f46",
   "metadata": {},
   "outputs": [
    {
     "data": {
      "text/html": [
       "<div>\n",
       "<style scoped>\n",
       "    .dataframe tbody tr th:only-of-type {\n",
       "        vertical-align: middle;\n",
       "    }\n",
       "\n",
       "    .dataframe tbody tr th {\n",
       "        vertical-align: top;\n",
       "    }\n",
       "\n",
       "    .dataframe thead th {\n",
       "        text-align: right;\n",
       "    }\n",
       "</style>\n",
       "<table border=\"1\" class=\"dataframe\">\n",
       "  <thead>\n",
       "    <tr style=\"text-align: right;\">\n",
       "      <th></th>\n",
       "      <th>date_activ</th>\n",
       "      <th>date_end</th>\n",
       "      <th>date_modif_prod</th>\n",
       "      <th>date_renewal</th>\n",
       "    </tr>\n",
       "  </thead>\n",
       "  <tbody>\n",
       "    <tr>\n",
       "      <th>0</th>\n",
       "      <td>4694</td>\n",
       "      <td>6154</td>\n",
       "      <td>4694</td>\n",
       "      <td>5791</td>\n",
       "    </tr>\n",
       "    <tr>\n",
       "      <th>1</th>\n",
       "      <td>4914</td>\n",
       "      <td>6010</td>\n",
       "      <td>&lt;NA&gt;</td>\n",
       "      <td>5652</td>\n",
       "    </tr>\n",
       "    <tr>\n",
       "      <th>2</th>\n",
       "      <td>3520</td>\n",
       "      <td>6086</td>\n",
       "      <td>3520</td>\n",
       "      <td>5721</td>\n",
       "    </tr>\n",
       "    <tr>\n",
       "      <th>3</th>\n",
       "      <td>3758</td>\n",
       "      <td>5950</td>\n",
       "      <td>3758</td>\n",
       "      <td>5585</td>\n",
       "    </tr>\n",
       "    <tr>\n",
       "      <th>4</th>\n",
       "      <td>3741</td>\n",
       "      <td>5933</td>\n",
       "      <td>3741</td>\n",
       "      <td>5568</td>\n",
       "    </tr>\n",
       "    <tr>\n",
       "      <th>5</th>\n",
       "      <td>3750</td>\n",
       "      <td>5942</td>\n",
       "      <td>3750</td>\n",
       "      <td>5580</td>\n",
       "    </tr>\n",
       "    <tr>\n",
       "      <th>6</th>\n",
       "      <td>3665</td>\n",
       "      <td>5910</td>\n",
       "      <td>3665</td>\n",
       "      <td>5546</td>\n",
       "    </tr>\n",
       "    <tr>\n",
       "      <th>7</th>\n",
       "      <td>4360</td>\n",
       "      <td>6187</td>\n",
       "      <td>5783</td>\n",
       "      <td>5822</td>\n",
       "    </tr>\n",
       "    <tr>\n",
       "      <th>8</th>\n",
       "      <td>4353</td>\n",
       "      <td>6180</td>\n",
       "      <td>4353</td>\n",
       "      <td>5815</td>\n",
       "    </tr>\n",
       "    <tr>\n",
       "      <th>9</th>\n",
       "      <td>3763</td>\n",
       "      <td>5955</td>\n",
       "      <td>3763</td>\n",
       "      <td>5590</td>\n",
       "    </tr>\n",
       "  </tbody>\n",
       "</table>\n",
       "</div>"
      ],
      "text/plain": [
       "   date_activ  date_end  date_modif_prod  date_renewal\n",
       "0        4694      6154             4694          5791\n",
       "1        4914      6010             <NA>          5652\n",
       "2        3520      6086             3520          5721\n",
       "3        3758      5950             3758          5585\n",
       "4        3741      5933             3741          5568\n",
       "5        3750      5942             3750          5580\n",
       "6        3665      5910             3665          5546\n",
       "7        4360      6187             5783          5822\n",
       "8        4353      6180             4353          5815\n",
       "9        3763      5955             3763          5590"
      ]
     },
     "execution_count": 11,
     "metadata": {},
     "output_type": "execute_result"
    }
   ],
   "source": [
    "clean[[\"date_activ\", \"date_end\", \"date_modif_prod\", \"date_renewal\"]].head(10)"
   ]
  },
  {
   "cell_type": "code",
   "execution_count": 12,
   "id": "42b1803c",
   "metadata": {},
   "outputs": [],
   "source": [
    "# 데이터 조건\n",
    "#date_activ, date_renewal <= date_end\n",
    "\n",
    "#특이점이 date_activ와 date_modif_prod가 같은 애들이 보인다.\n",
    "#이탈자와 비이탈자의 date_activ와 date_modif_prod가 같은 row의 비율 확인"
   ]
  },
  {
   "cell_type": "code",
   "execution_count": 13,
   "id": "69f8a3a8",
   "metadata": {},
   "outputs": [
    {
     "name": "stdout",
     "output_type": "stream",
     "text": [
      "비이탈자 소요시간 0의 비율: 0.5034\n",
      "이탈자 소요시간 0의 비율: 0.4301\n"
     ]
    }
   ],
   "source": [
    "#비이탈자들의 date_modif_prod - date_activ\n",
    "lt_0 = clean[clean[\"churn\"]==0][\"date_modif_prod\"] - clean[clean[\"churn\"]==0][\"date_activ\"]\n",
    "print(f\"비이탈자 소요시간 0의 비율: {(lt_0== 0).sum() / lt_0.shape[0]:.4f}\")\n",
    "\n",
    "#이탈자들의 date_modif_prod - date_activ\n",
    "lt_1 = clean[clean[\"churn\"]==1][\"date_modif_prod\"] - clean[clean[\"churn\"]==1][\"date_activ\"]\n",
    "print(f\"이탈자 소요시간 0의 비율: {(lt_1== 0).sum() / lt_1.shape[0]:.4f}\")"
   ]
  },
  {
   "cell_type": "code",
   "execution_count": 14,
   "id": "d36ab6f8",
   "metadata": {},
   "outputs": [],
   "source": [
    "#이것을 고려하여 결측치를 채움\n",
    "import numpy as np\n",
    "lt_0_rat = 0.5034\n",
    "lt_0_mean = 1432\n",
    "\n",
    "lt_1_rat = 0.4301\n",
    "lt_1_mean = 1266\n",
    "\n",
    "#비이탈자에서 0의 비율만큼 0 할당 \n",
    "mask = clean['date_modif_prod'].isna() & (clean['churn'] == 0)\n",
    "na_idx = clean[mask].index\n",
    "n_total = len(na_idx)\n",
    "n_zero = int(n_total * lt_0_rat)\n",
    "zero_idx = np.random.choice(na_idx, size=n_zero, replace=False)\n",
    "clean.loc[zero_idx, 'date_modif_prod'] = 0\n",
    "\n",
    "#비이탈자에서 나머지는 date_activ+평균으로 할당\n",
    "mask = clean[\"date_modif_prod\"].isna() & (clean[\"churn\"] == 0)\n",
    "clean.loc[mask, \"date_modif_prod\"] = clean.loc[mask, \"date_activ\"] + lt_0_mean\n",
    "\n",
    "\n",
    "#이탈자에서 0의 비율만큼 0 할당 \n",
    "mask = clean['date_modif_prod'].isna() & (clean['churn'] == 1)\n",
    "na_idx = clean[mask].index\n",
    "n_total = len(na_idx)\n",
    "n_zero = int(n_total * lt_1_rat)\n",
    "zero_idx = np.random.choice(na_idx, size=n_zero, replace=False)\n",
    "clean.loc[zero_idx, 'date_modif_prod'] = 0\n",
    "\n",
    "#비이탈자에서 나머지는 date_activ+평균으로 할당\n",
    "mask = clean[\"date_modif_prod\"].isna() & (clean[\"churn\"] == 1)\n",
    "clean.loc[mask, \"date_modif_prod\"] = clean.loc[mask, \"date_activ\"] + lt_1_mean"
   ]
  },
  {
   "cell_type": "code",
   "execution_count": 15,
   "id": "a936ff38",
   "metadata": {},
   "outputs": [],
   "source": [
    "# 데이터 조건\n",
    "#date_activ, date_renewal <= date_end\n",
    "#date_renewal은 특별한 특성이 없으니 데이터 조건을 만족하게끔 결측치 완성\n",
    "#dr = (1- (dr-de / de-da)mean) *de"
   ]
  },
  {
   "cell_type": "code",
   "execution_count": 16,
   "id": "18fe28ac",
   "metadata": {},
   "outputs": [],
   "source": [
    "mean = ((clean[\"date_renewal\"] - clean[\"date_end\"]) / (clean[\"date_end\"] - clean[\"date_activ\"])).mean()\n",
    "mask = clean[\"date_renewal\"].isna()\n",
    "clean.loc[mask, \"date_renewal\"] = ((1 - mean) * clean.loc[mask, \"date_end\"]).astype(int)"
   ]
  },
  {
   "cell_type": "code",
   "execution_count": 17,
   "id": "fe485cbe",
   "metadata": {},
   "outputs": [],
   "source": [
    "cols_to_fill = [\n",
    "    'forecast_discount_energy', 'forecast_price_energy_p1',\n",
    "    'forecast_price_energy_p2', 'forecast_price_pow_p1',\n",
    "    'margin_gross_pow_ele', 'margin_net_pow_ele', 'net_margin',\n",
    "    'origin_up', 'pow_max'\n",
    "]\n",
    "\n",
    "for col in cols_to_fill:\n",
    "    if col in clean.columns:\n",
    "        mode_val = clean[col].mode(dropna=True)\n",
    "        if not mode_val.empty:\n",
    "            clean[col].fillna(mode_val[0], inplace=True)"
   ]
  },
  {
   "cell_type": "code",
   "execution_count": 18,
   "id": "b52d06d7",
   "metadata": {},
   "outputs": [
    {
     "data": {
      "text/html": [
       "<div>\n",
       "<style scoped>\n",
       "    .dataframe tbody tr th:only-of-type {\n",
       "        vertical-align: middle;\n",
       "    }\n",
       "\n",
       "    .dataframe tbody tr th {\n",
       "        vertical-align: top;\n",
       "    }\n",
       "\n",
       "    .dataframe thead th {\n",
       "        text-align: right;\n",
       "    }\n",
       "</style>\n",
       "<table border=\"1\" class=\"dataframe\">\n",
       "  <thead>\n",
       "    <tr style=\"text-align: right;\">\n",
       "      <th></th>\n",
       "      <th>id</th>\n",
       "      <th>price_date</th>\n",
       "      <th>price_p1_var</th>\n",
       "      <th>price_p2_var</th>\n",
       "      <th>price_p3_var</th>\n",
       "      <th>price_p1_fix</th>\n",
       "      <th>price_p2_fix</th>\n",
       "      <th>price_p3_fix</th>\n",
       "    </tr>\n",
       "  </thead>\n",
       "  <tbody>\n",
       "    <tr>\n",
       "      <th>0</th>\n",
       "      <td>038af19179925da21a25619c5a24b745</td>\n",
       "      <td>2015-01-01</td>\n",
       "      <td>0.151367</td>\n",
       "      <td>0.0</td>\n",
       "      <td>0.0</td>\n",
       "      <td>44.266931</td>\n",
       "      <td>0.0</td>\n",
       "      <td>0.0</td>\n",
       "    </tr>\n",
       "    <tr>\n",
       "      <th>1</th>\n",
       "      <td>038af19179925da21a25619c5a24b745</td>\n",
       "      <td>2015-02-01</td>\n",
       "      <td>0.151367</td>\n",
       "      <td>0.0</td>\n",
       "      <td>0.0</td>\n",
       "      <td>44.266931</td>\n",
       "      <td>0.0</td>\n",
       "      <td>0.0</td>\n",
       "    </tr>\n",
       "    <tr>\n",
       "      <th>2</th>\n",
       "      <td>038af19179925da21a25619c5a24b745</td>\n",
       "      <td>2015-03-01</td>\n",
       "      <td>0.151367</td>\n",
       "      <td>0.0</td>\n",
       "      <td>0.0</td>\n",
       "      <td>44.266931</td>\n",
       "      <td>0.0</td>\n",
       "      <td>0.0</td>\n",
       "    </tr>\n",
       "  </tbody>\n",
       "</table>\n",
       "</div>"
      ],
      "text/plain": [
       "                                 id  price_date  price_p1_var  price_p2_var  \\\n",
       "0  038af19179925da21a25619c5a24b745  2015-01-01      0.151367           0.0   \n",
       "1  038af19179925da21a25619c5a24b745  2015-02-01      0.151367           0.0   \n",
       "2  038af19179925da21a25619c5a24b745  2015-03-01      0.151367           0.0   \n",
       "\n",
       "   price_p3_var  price_p1_fix  price_p2_fix  price_p3_fix  \n",
       "0           0.0     44.266931           0.0           0.0  \n",
       "1           0.0     44.266931           0.0           0.0  \n",
       "2           0.0     44.266931           0.0           0.0  "
      ]
     },
     "execution_count": 18,
     "metadata": {},
     "output_type": "execute_result"
    }
   ],
   "source": [
    "train_hist.head(3)\n",
    "#var은 변동가, fix는 고정가"
   ]
  },
  {
   "cell_type": "code",
   "execution_count": 19,
   "id": "a4708616",
   "metadata": {},
   "outputs": [
    {
     "data": {
      "text/html": [
       "<div>\n",
       "<style scoped>\n",
       "    .dataframe tbody tr th:only-of-type {\n",
       "        vertical-align: middle;\n",
       "    }\n",
       "\n",
       "    .dataframe tbody tr th {\n",
       "        vertical-align: top;\n",
       "    }\n",
       "\n",
       "    .dataframe thead th {\n",
       "        text-align: right;\n",
       "    }\n",
       "</style>\n",
       "<table border=\"1\" class=\"dataframe\">\n",
       "  <thead>\n",
       "    <tr style=\"text-align: right;\">\n",
       "      <th></th>\n",
       "      <th>id</th>\n",
       "      <th>price_date</th>\n",
       "      <th>price_p1_var</th>\n",
       "      <th>price_p2_var</th>\n",
       "      <th>price_p3_var</th>\n",
       "      <th>price_p1_fix</th>\n",
       "      <th>price_p2_fix</th>\n",
       "      <th>price_p3_fix</th>\n",
       "    </tr>\n",
       "  </thead>\n",
       "  <tbody>\n",
       "    <tr>\n",
       "      <th>75</th>\n",
       "      <td>ef716222bbd97a8bdfcbb831e3575560</td>\n",
       "      <td>2015-04-01</td>\n",
       "      <td>NaN</td>\n",
       "      <td>NaN</td>\n",
       "      <td>NaN</td>\n",
       "      <td>NaN</td>\n",
       "      <td>NaN</td>\n",
       "      <td>NaN</td>\n",
       "    </tr>\n",
       "    <tr>\n",
       "      <th>221</th>\n",
       "      <td>0f5231100b2febab862f8dd8eaab3f43</td>\n",
       "      <td>2015-06-01</td>\n",
       "      <td>NaN</td>\n",
       "      <td>NaN</td>\n",
       "      <td>NaN</td>\n",
       "      <td>NaN</td>\n",
       "      <td>NaN</td>\n",
       "      <td>NaN</td>\n",
       "    </tr>\n",
       "    <tr>\n",
       "      <th>377</th>\n",
       "      <td>2f93639de582fadfbe3e86ce1c8d8f35</td>\n",
       "      <td>2015-06-01</td>\n",
       "      <td>NaN</td>\n",
       "      <td>NaN</td>\n",
       "      <td>NaN</td>\n",
       "      <td>NaN</td>\n",
       "      <td>NaN</td>\n",
       "      <td>NaN</td>\n",
       "    </tr>\n",
       "    <tr>\n",
       "      <th>413</th>\n",
       "      <td>f83c1ab1ca1d1802bb1df4d72820243c</td>\n",
       "      <td>2015-06-01</td>\n",
       "      <td>NaN</td>\n",
       "      <td>NaN</td>\n",
       "      <td>NaN</td>\n",
       "      <td>NaN</td>\n",
       "      <td>NaN</td>\n",
       "      <td>NaN</td>\n",
       "    </tr>\n",
       "    <tr>\n",
       "      <th>461</th>\n",
       "      <td>3076c6d4a060e12a049d1700d9b09cf3</td>\n",
       "      <td>2015-06-01</td>\n",
       "      <td>NaN</td>\n",
       "      <td>NaN</td>\n",
       "      <td>NaN</td>\n",
       "      <td>NaN</td>\n",
       "      <td>NaN</td>\n",
       "      <td>NaN</td>\n",
       "    </tr>\n",
       "  </tbody>\n",
       "</table>\n",
       "</div>"
      ],
      "text/plain": [
       "                                   id  price_date  price_p1_var  price_p2_var  \\\n",
       "75   ef716222bbd97a8bdfcbb831e3575560  2015-04-01           NaN           NaN   \n",
       "221  0f5231100b2febab862f8dd8eaab3f43  2015-06-01           NaN           NaN   \n",
       "377  2f93639de582fadfbe3e86ce1c8d8f35  2015-06-01           NaN           NaN   \n",
       "413  f83c1ab1ca1d1802bb1df4d72820243c  2015-06-01           NaN           NaN   \n",
       "461  3076c6d4a060e12a049d1700d9b09cf3  2015-06-01           NaN           NaN   \n",
       "\n",
       "     price_p3_var  price_p1_fix  price_p2_fix  price_p3_fix  \n",
       "75            NaN           NaN           NaN           NaN  \n",
       "221           NaN           NaN           NaN           NaN  \n",
       "377           NaN           NaN           NaN           NaN  \n",
       "413           NaN           NaN           NaN           NaN  \n",
       "461           NaN           NaN           NaN           NaN  "
      ]
     },
     "execution_count": 19,
     "metadata": {},
     "output_type": "execute_result"
    }
   ],
   "source": [
    "rows_with_null = train_hist[train_hist.isnull().any(axis=1)]\n",
    "rows_with_null.head()"
   ]
  },
  {
   "cell_type": "code",
   "execution_count": 20,
   "id": "f67df8c9",
   "metadata": {},
   "outputs": [],
   "source": [
    "cols = [\n",
    "    'price_p1_var', 'price_p2_var', 'price_p3_var',\n",
    "    'price_p1_fix', 'price_p2_fix', 'price_p3_fix'\n",
    "]\n",
    "for col in cols:\n",
    "    if col in train_hist.columns:\n",
    "        mean_val = train_hist[col].mean()\n",
    "        train_hist[col].fillna(mean_val, inplace=True)"
   ]
  },
  {
   "cell_type": "code",
   "execution_count": 21,
   "id": "7fe4a7f0",
   "metadata": {},
   "outputs": [],
   "source": [
    "train_hist['p1']=train_hist['price_p1_var']+train_hist['price_p1_fix']\n",
    "train_hist['p2']=train_hist['price_p2_var']+train_hist['price_p2_fix']\n",
    "train_hist['p3']=train_hist['price_p3_var']+train_hist['price_p3_fix']\n",
    "train_hist.drop(['price_date','price_p1_var','price_p2_var','price_p3_var',\n",
    "                'price_p1_fix','price_p2_fix','price_p3_fix'],inplace=True,axis=1)"
   ]
  },
  {
   "cell_type": "code",
   "execution_count": 22,
   "id": "d1a5ebf1",
   "metadata": {},
   "outputs": [],
   "source": [
    "clean = pd.merge(clean, train_hist, on=\"id\")\n",
    "clean = clean.drop(columns=[\"id\"])"
   ]
  },
  {
   "cell_type": "code",
   "execution_count": 23,
   "id": "d97094ab",
   "metadata": {},
   "outputs": [
    {
     "data": {
      "text/plain": [
       "(193002, 29)"
      ]
     },
     "execution_count": 23,
     "metadata": {},
     "output_type": "execute_result"
    }
   ],
   "source": [
    "clean.shape"
   ]
  },
  {
   "cell_type": "code",
   "execution_count": 25,
   "id": "b472da5e",
   "metadata": {},
   "outputs": [],
   "source": [
    "clean.to_csv(\"../dataSet/final_dataset.csv\", index=False)"
   ]
  },
  {
   "cell_type": "code",
   "execution_count": null,
   "id": "0a08a126",
   "metadata": {},
   "outputs": [],
   "source": []
  }
 ],
 "metadata": {
  "kernelspec": {
   "display_name": "u_project2",
   "language": "python",
   "name": "python3"
  },
  "language_info": {
   "codemirror_mode": {
    "name": "ipython",
    "version": 3
   },
   "file_extension": ".py",
   "mimetype": "text/x-python",
   "name": "python",
   "nbconvert_exporter": "python",
   "pygments_lexer": "ipython3",
   "version": "3.11.13"
  }
 },
 "nbformat": 4,
 "nbformat_minor": 5
}

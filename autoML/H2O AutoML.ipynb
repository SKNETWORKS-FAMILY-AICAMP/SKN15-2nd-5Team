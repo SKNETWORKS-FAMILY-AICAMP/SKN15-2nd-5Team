{
 "cells": [
  {
   "cell_type": "code",
   "execution_count": null,
   "id": "d115eee9",
   "metadata": {},
   "outputs": [],
   "source": [
    "import h2o\n",
    "from h2o.automl import H2OAutoML\n",
    "\n",
    "aml = H2OAutoML(sort_metric='recall')\n",
    "aml.train(x=features, y=target, training_frame=train)"
   ]
  }
 ],
 "metadata": {
  "kernelspec": {
   "display_name": "u_project2",
   "language": "python",
   "name": "python3"
  },
  "language_info": {
   "codemirror_mode": {
    "name": "ipython",
    "version": 3
   },
   "file_extension": ".py",
   "mimetype": "text/x-python",
   "name": "python",
   "nbconvert_exporter": "python",
   "pygments_lexer": "ipython3",
   "version": "3.11.13"
  }
 },
 "nbformat": 4,
 "nbformat_minor": 5
}
